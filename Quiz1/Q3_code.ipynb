{
  "nbformat": 4,
  "nbformat_minor": 0,
  "metadata": {
    "colab": {
      "provenance": []
    },
    "kernelspec": {
      "name": "python3",
      "display_name": "Python 3"
    },
    "language_info": {
      "name": "python"
    }
  },
  "cells": [
    {
      "cell_type": "code",
      "execution_count": 1,
      "metadata": {
        "id": "CYYlrfdWeNqQ"
      },
      "outputs": [],
      "source": [
        "# jsmateo 2025 | Q3-code for Quiz 1"
      ]
    },
    {
      "cell_type": "markdown",
      "source": [
        "### Part A)\n"
      ],
      "metadata": {
        "id": "pHuythzJgduY"
      }
    },
    {
      "cell_type": "code",
      "source": [
        "# Imports\n",
        "import pandas as pd"
      ],
      "metadata": {
        "id": "qb4OPwS9gfkH"
      },
      "execution_count": 2,
      "outputs": []
    },
    {
      "cell_type": "code",
      "source": [
        "# Import the data\n",
        "from google.colab import files\n",
        "uploaded = files.upload()\n",
        "filename = list(uploaded.keys())[0]"
      ],
      "metadata": {
        "colab": {
          "base_uri": "https://localhost:8080/",
          "height": 73
        },
        "id": "M2pOJyengqtc",
        "outputId": "80c6d291-733c-4d2d-8c69-d7de287fc56a"
      },
      "execution_count": 3,
      "outputs": [
        {
          "output_type": "display_data",
          "data": {
            "text/plain": [
              "<IPython.core.display.HTML object>"
            ],
            "text/html": [
              "\n",
              "     <input type=\"file\" id=\"files-308e5783-ebfc-47a5-8677-5e30c8f7da24\" name=\"files[]\" multiple disabled\n",
              "        style=\"border:none\" />\n",
              "     <output id=\"result-308e5783-ebfc-47a5-8677-5e30c8f7da24\">\n",
              "      Upload widget is only available when the cell has been executed in the\n",
              "      current browser session. Please rerun this cell to enable.\n",
              "      </output>\n",
              "      <script>// Copyright 2017 Google LLC\n",
              "//\n",
              "// Licensed under the Apache License, Version 2.0 (the \"License\");\n",
              "// you may not use this file except in compliance with the License.\n",
              "// You may obtain a copy of the License at\n",
              "//\n",
              "//      http://www.apache.org/licenses/LICENSE-2.0\n",
              "//\n",
              "// Unless required by applicable law or agreed to in writing, software\n",
              "// distributed under the License is distributed on an \"AS IS\" BASIS,\n",
              "// WITHOUT WARRANTIES OR CONDITIONS OF ANY KIND, either express or implied.\n",
              "// See the License for the specific language governing permissions and\n",
              "// limitations under the License.\n",
              "\n",
              "/**\n",
              " * @fileoverview Helpers for google.colab Python module.\n",
              " */\n",
              "(function(scope) {\n",
              "function span(text, styleAttributes = {}) {\n",
              "  const element = document.createElement('span');\n",
              "  element.textContent = text;\n",
              "  for (const key of Object.keys(styleAttributes)) {\n",
              "    element.style[key] = styleAttributes[key];\n",
              "  }\n",
              "  return element;\n",
              "}\n",
              "\n",
              "// Max number of bytes which will be uploaded at a time.\n",
              "const MAX_PAYLOAD_SIZE = 100 * 1024;\n",
              "\n",
              "function _uploadFiles(inputId, outputId) {\n",
              "  const steps = uploadFilesStep(inputId, outputId);\n",
              "  const outputElement = document.getElementById(outputId);\n",
              "  // Cache steps on the outputElement to make it available for the next call\n",
              "  // to uploadFilesContinue from Python.\n",
              "  outputElement.steps = steps;\n",
              "\n",
              "  return _uploadFilesContinue(outputId);\n",
              "}\n",
              "\n",
              "// This is roughly an async generator (not supported in the browser yet),\n",
              "// where there are multiple asynchronous steps and the Python side is going\n",
              "// to poll for completion of each step.\n",
              "// This uses a Promise to block the python side on completion of each step,\n",
              "// then passes the result of the previous step as the input to the next step.\n",
              "function _uploadFilesContinue(outputId) {\n",
              "  const outputElement = document.getElementById(outputId);\n",
              "  const steps = outputElement.steps;\n",
              "\n",
              "  const next = steps.next(outputElement.lastPromiseValue);\n",
              "  return Promise.resolve(next.value.promise).then((value) => {\n",
              "    // Cache the last promise value to make it available to the next\n",
              "    // step of the generator.\n",
              "    outputElement.lastPromiseValue = value;\n",
              "    return next.value.response;\n",
              "  });\n",
              "}\n",
              "\n",
              "/**\n",
              " * Generator function which is called between each async step of the upload\n",
              " * process.\n",
              " * @param {string} inputId Element ID of the input file picker element.\n",
              " * @param {string} outputId Element ID of the output display.\n",
              " * @return {!Iterable<!Object>} Iterable of next steps.\n",
              " */\n",
              "function* uploadFilesStep(inputId, outputId) {\n",
              "  const inputElement = document.getElementById(inputId);\n",
              "  inputElement.disabled = false;\n",
              "\n",
              "  const outputElement = document.getElementById(outputId);\n",
              "  outputElement.innerHTML = '';\n",
              "\n",
              "  const pickedPromise = new Promise((resolve) => {\n",
              "    inputElement.addEventListener('change', (e) => {\n",
              "      resolve(e.target.files);\n",
              "    });\n",
              "  });\n",
              "\n",
              "  const cancel = document.createElement('button');\n",
              "  inputElement.parentElement.appendChild(cancel);\n",
              "  cancel.textContent = 'Cancel upload';\n",
              "  const cancelPromise = new Promise((resolve) => {\n",
              "    cancel.onclick = () => {\n",
              "      resolve(null);\n",
              "    };\n",
              "  });\n",
              "\n",
              "  // Wait for the user to pick the files.\n",
              "  const files = yield {\n",
              "    promise: Promise.race([pickedPromise, cancelPromise]),\n",
              "    response: {\n",
              "      action: 'starting',\n",
              "    }\n",
              "  };\n",
              "\n",
              "  cancel.remove();\n",
              "\n",
              "  // Disable the input element since further picks are not allowed.\n",
              "  inputElement.disabled = true;\n",
              "\n",
              "  if (!files) {\n",
              "    return {\n",
              "      response: {\n",
              "        action: 'complete',\n",
              "      }\n",
              "    };\n",
              "  }\n",
              "\n",
              "  for (const file of files) {\n",
              "    const li = document.createElement('li');\n",
              "    li.append(span(file.name, {fontWeight: 'bold'}));\n",
              "    li.append(span(\n",
              "        `(${file.type || 'n/a'}) - ${file.size} bytes, ` +\n",
              "        `last modified: ${\n",
              "            file.lastModifiedDate ? file.lastModifiedDate.toLocaleDateString() :\n",
              "                                    'n/a'} - `));\n",
              "    const percent = span('0% done');\n",
              "    li.appendChild(percent);\n",
              "\n",
              "    outputElement.appendChild(li);\n",
              "\n",
              "    const fileDataPromise = new Promise((resolve) => {\n",
              "      const reader = new FileReader();\n",
              "      reader.onload = (e) => {\n",
              "        resolve(e.target.result);\n",
              "      };\n",
              "      reader.readAsArrayBuffer(file);\n",
              "    });\n",
              "    // Wait for the data to be ready.\n",
              "    let fileData = yield {\n",
              "      promise: fileDataPromise,\n",
              "      response: {\n",
              "        action: 'continue',\n",
              "      }\n",
              "    };\n",
              "\n",
              "    // Use a chunked sending to avoid message size limits. See b/62115660.\n",
              "    let position = 0;\n",
              "    do {\n",
              "      const length = Math.min(fileData.byteLength - position, MAX_PAYLOAD_SIZE);\n",
              "      const chunk = new Uint8Array(fileData, position, length);\n",
              "      position += length;\n",
              "\n",
              "      const base64 = btoa(String.fromCharCode.apply(null, chunk));\n",
              "      yield {\n",
              "        response: {\n",
              "          action: 'append',\n",
              "          file: file.name,\n",
              "          data: base64,\n",
              "        },\n",
              "      };\n",
              "\n",
              "      let percentDone = fileData.byteLength === 0 ?\n",
              "          100 :\n",
              "          Math.round((position / fileData.byteLength) * 100);\n",
              "      percent.textContent = `${percentDone}% done`;\n",
              "\n",
              "    } while (position < fileData.byteLength);\n",
              "  }\n",
              "\n",
              "  // All done.\n",
              "  yield {\n",
              "    response: {\n",
              "      action: 'complete',\n",
              "    }\n",
              "  };\n",
              "}\n",
              "\n",
              "scope.google = scope.google || {};\n",
              "scope.google.colab = scope.google.colab || {};\n",
              "scope.google.colab._files = {\n",
              "  _uploadFiles,\n",
              "  _uploadFilesContinue,\n",
              "};\n",
              "})(self);\n",
              "</script> "
            ]
          },
          "metadata": {}
        },
        {
          "output_type": "stream",
          "name": "stdout",
          "text": [
            "Saving Redacted-Department _ CAD Reconciliation.csv to Redacted-Department _ CAD Reconciliation (3).csv\n"
          ]
        }
      ]
    },
    {
      "cell_type": "code",
      "source": [
        "# Read the file in\n",
        "data = pd.read_csv(filename, parse_dates=['DISPATCH CREATED DATE', 'ALARM DATE TIME', 'CALL COMPLETE'])\n",
        "\n",
        "# Range of dispatches\n",
        "print(\"Dispatches range:\", data['DISPATCH CREATED DATE'].min(), \"to\", data['DISPATCH CREATED DATE'].max())\n",
        "\n",
        "# % data missing by column\n",
        "missing_percent = data.isnull().mean() * 100\n",
        "print(\"\\n% Missing values by column:\")\n",
        "print(missing_percent)"
      ],
      "metadata": {
        "colab": {
          "base_uri": "https://localhost:8080/"
        },
        "id": "lQtvQA6-h0hf",
        "outputId": "a21e3dd8-7709-4f60-9e8c-e19afa456c77"
      },
      "execution_count": 4,
      "outputs": [
        {
          "output_type": "stream",
          "name": "stderr",
          "text": [
            "/tmp/ipython-input-171768104.py:2: UserWarning: Could not infer format, so each element will be parsed individually, falling back to `dateutil`. To ensure parsing is consistent and as-expected, please specify a format.\n",
            "  data = pd.read_csv(filename, parse_dates=['DISPATCH CREATED DATE', 'ALARM DATE TIME', 'CALL COMPLETE'])\n",
            "/tmp/ipython-input-171768104.py:2: UserWarning: Could not infer format, so each element will be parsed individually, falling back to `dateutil`. To ensure parsing is consistent and as-expected, please specify a format.\n",
            "  data = pd.read_csv(filename, parse_dates=['DISPATCH CREATED DATE', 'ALARM DATE TIME', 'CALL COMPLETE'])\n",
            "/tmp/ipython-input-171768104.py:2: UserWarning: Could not infer format, so each element will be parsed individually, falling back to `dateutil`. To ensure parsing is consistent and as-expected, please specify a format.\n",
            "  data = pd.read_csv(filename, parse_dates=['DISPATCH CREATED DATE', 'ALARM DATE TIME', 'CALL COMPLETE'])\n"
          ]
        },
        {
          "output_type": "stream",
          "name": "stdout",
          "text": [
            "Dispatches range: 2025-03-24 15:54:00 to 2025-08-31 23:03:00\n",
            "\n",
            "% Missing values by column:\n",
            "XREF ID                   0.000000\n",
            "DISPATCH UNIT             0.000000\n",
            "DISPATCH CREATED DATE     0.000000\n",
            "INCIDENT NUMBER           0.000000\n",
            "1ST UNIT ON SCENE        19.454545\n",
            "ALARM DATE TIME           1.409091\n",
            "CALL COMPLETE             1.409091\n",
            "SHIFT                     3.136364\n",
            "dtype: float64\n"
          ]
        }
      ]
    },
    {
      "cell_type": "code",
      "source": [],
      "metadata": {
        "id": "70vklRjhkSM3"
      },
      "execution_count": 4,
      "outputs": []
    },
    {
      "cell_type": "markdown",
      "source": [
        "Some data issues present are missing information as well as different formats. For missing values the most notable one was \"1ST UNIT ON SCENE\". One solution would be imputation: using a default value such as \"Unknown\" for cases where the first unit on scene was not known. Second, I noticed some incident numbers have a different format compared to the rest for whichever reason. I believe the best way handle these would be to just flag and manually change them, as there seems to be very few such cases."
      ],
      "metadata": {
        "id": "JGvzp13QlOBX"
      }
    },
    {
      "cell_type": "code",
      "source": [
        "# Assign IDs and clean data\n",
        "data['ID_NO'] = range(1, len(data)+1)\n",
        "\n",
        "# Fill missing values with \"Unknown\"\n",
        "data['1ST UNIT ON SCENE'] = data['1ST UNIT ON SCENE'].fillna(\"Unknown\")\n",
        "data['SHIFT'] = data['SHIFT'].fillna(\"Unknown\")\n",
        "\n",
        "# Omit cases where these dates are missing\n",
        "data = data.dropna(subset=['ALARM DATE TIME', 'CALL COMPLETE'])\n",
        "\n",
        "# % data missing by column again\n",
        "missing_percent = data.isnull().mean() * 100\n",
        "print(\"\\n% Missing values by column:\")\n",
        "print(missing_percent)"
      ],
      "metadata": {
        "colab": {
          "base_uri": "https://localhost:8080/"
        },
        "collapsed": true,
        "id": "YfI1aUcIogp7",
        "outputId": "e502886b-6bcc-4cd7-aae9-6c85e4cb0beb"
      },
      "execution_count": 7,
      "outputs": [
        {
          "output_type": "stream",
          "name": "stdout",
          "text": [
            "\n",
            "% Missing values by column:\n",
            "XREF ID                  0.0\n",
            "DISPATCH UNIT            0.0\n",
            "DISPATCH CREATED DATE    0.0\n",
            "INCIDENT NUMBER          0.0\n",
            "1ST UNIT ON SCENE        0.0\n",
            "ALARM DATE TIME          0.0\n",
            "CALL COMPLETE            0.0\n",
            "SHIFT                    0.0\n",
            "ID_NO                    0.0\n",
            "dtype: float64\n"
          ]
        }
      ]
    },
    {
      "cell_type": "markdown",
      "source": [
        "### Data cleaning strategy\n",
        "My strategy to clean the data was to simply use default values like \"Unknown\" for the missing data. As for the missing dates data, as the number of them are so few I believe the best way to handle them would be to simply omit them."
      ],
      "metadata": {
        "id": "RXzSMiFe0evm"
      }
    },
    {
      "cell_type": "code",
      "source": [
        "# Average time to resolve a call\n",
        "data['DURATION'] = data['CALL COMPLETE'] - data['ALARM DATE TIME']\n",
        "average_duration = data['DURATION'].mean()\n",
        "print(\"Average time to resolve a call: \", average_duration)"
      ],
      "metadata": {
        "colab": {
          "base_uri": "https://localhost:8080/"
        },
        "id": "gu89MMnhsFrQ",
        "outputId": "67619b06-9734-4641-a344-08b5ba6b6a88"
      },
      "execution_count": 8,
      "outputs": [
        {
          "output_type": "stream",
          "name": "stdout",
          "text": [
            "Average time to resolve a call:  90 days 18:28:08.907330567\n"
          ]
        }
      ]
    },
    {
      "cell_type": "code",
      "source": [
        "# Average number of units sent per call\n",
        "data['NUM_UNITS'] = data['DISPATCH UNIT'].str.split(',').apply(len)\n",
        "average_units = data['NUM_UNITS'].mean()\n",
        "print(\"Average number of fire units per call:\", average_units)"
      ],
      "metadata": {
        "colab": {
          "base_uri": "https://localhost:8080/"
        },
        "id": "922J5QCI4g64",
        "outputId": "ad6af267-3a66-4a29-aaa8-82fc2b514bfb"
      },
      "execution_count": 9,
      "outputs": [
        {
          "output_type": "stream",
          "name": "stdout",
          "text": [
            "Average number of fire units per call: 1.4402950668510834\n"
          ]
        }
      ]
    },
    {
      "cell_type": "code",
      "source": [
        "# Busiest shift\n",
        "shift_counts = data['SHIFT'].value_counts()\n",
        "busiest_shift = shift_counts.idxmax()\n",
        "print(\"Totals: \", shift_counts)\n",
        "print(\"Busiest shift: \", busiest_shift)"
      ],
      "metadata": {
        "colab": {
          "base_uri": "https://localhost:8080/"
        },
        "id": "unbicB416MI4",
        "outputId": "9f51a7bb-db2f-4dc7-c138-33229ac0d57e"
      },
      "execution_count": 12,
      "outputs": [
        {
          "output_type": "stream",
          "name": "stdout",
          "text": [
            "Totals:  SHIFT\n",
            "A          735\n",
            "C          719\n",
            "B          677\n",
            "Unknown     38\n",
            "Name: count, dtype: int64\n",
            "Busiest shift:  A\n"
          ]
        }
      ]
    },
    {
      "cell_type": "code",
      "source": [
        "# Matrix of fire alarms organized by day of week and hour of the day\n",
        "\n",
        "day_order = ['Monday', 'Tuesday', 'Wednesday', 'Thursday', 'Friday', 'Saturday', 'Sunday']\n",
        "data['DAY_OF_WEEK'] = pd.Categorical(data['DAY_OF_WEEK'], categories=day_order, ordered=True)\n",
        "data['HOUR'] = data['ALARM DATE TIME'].dt.hour\n",
        "\n",
        "alarm_matrix = data.pivot_table(\n",
        "    index='HOUR',\n",
        "    columns = 'DAY_OF_WEEK',\n",
        "    values='ID_NO',\n",
        "    aggfunc='count',\n",
        "    fill_value=0,\n",
        "    observed=False\n",
        ")\n",
        "\n",
        "alarm_matrix['TOTAL'] = alarm_matrix.sum(axis=1)\n",
        "alarm_matrix.loc['TOTAL'] = alarm_matrix.sum(axis=0)\n",
        "\n",
        "print(alarm_matrix)"
      ],
      "metadata": {
        "colab": {
          "base_uri": "https://localhost:8080/"
        },
        "id": "OGVMXyvT61J2",
        "outputId": "a64501ee-85d8-4d3d-8298-7a43d7101fce"
      },
      "execution_count": 20,
      "outputs": [
        {
          "output_type": "stream",
          "name": "stdout",
          "text": [
            "DAY_OF_WEEK  Monday  Tuesday  Wednesday  Thursday  Friday  Saturday  Sunday  \\\n",
            "HOUR                                                                          \n",
            "0                 8        7          5         2       3         7       4   \n",
            "1                 9       10          7         8       4         7      10   \n",
            "2                 5        4          3         3       3         8      10   \n",
            "3                 9        9          9         1      10         5       7   \n",
            "4                 3        4          5         2       7         6       4   \n",
            "5                 9        3          6         5       5         3       7   \n",
            "6                 5        5          7         7      11         7       9   \n",
            "7                14       15          9        10      14         5      11   \n",
            "8                13       14         18        10       7         6      14   \n",
            "9                10       17         14        14      16        12      14   \n",
            "10               20       24         18        15      13        15      11   \n",
            "11               21       18         14        23      20        15      10   \n",
            "12               17       16         16        22      27        14      18   \n",
            "13               18       14         14        14      15        17      21   \n",
            "14               22       25         17        20      19        18      13   \n",
            "15               19       22         27        25      17        17      18   \n",
            "16               22       20         12        21      18        13      11   \n",
            "17               27       14         18        12      25        17      16   \n",
            "18               20       21         24        22      14        15      13   \n",
            "19               18       12         21        17      17        19      12   \n",
            "20               18       13         24        16      14        23      12   \n",
            "21               14       15         11        12      12        16       8   \n",
            "22                4       12         17         8      13        19      15   \n",
            "23               11        7          9         8       9        19       6   \n",
            "TOTAL           336      321        325       297     313       303     274   \n",
            "\n",
            "DAY_OF_WEEK  TOTAL  \n",
            "HOUR                \n",
            "0               36  \n",
            "1               55  \n",
            "2               36  \n",
            "3               50  \n",
            "4               31  \n",
            "5               38  \n",
            "6               51  \n",
            "7               78  \n",
            "8               82  \n",
            "9               97  \n",
            "10             116  \n",
            "11             121  \n",
            "12             130  \n",
            "13             113  \n",
            "14             134  \n",
            "15             145  \n",
            "16             117  \n",
            "17             129  \n",
            "18             129  \n",
            "19             116  \n",
            "20             120  \n",
            "21              88  \n",
            "22              88  \n",
            "23              69  \n",
            "TOTAL         2169  \n"
          ]
        }
      ]
    },
    {
      "cell_type": "code",
      "source": [
        "print(data.info())"
      ],
      "metadata": {
        "colab": {
          "base_uri": "https://localhost:8080/"
        },
        "id": "8gmrFpNX8Aq-",
        "outputId": "d7a13b6d-90a3-4f5e-f2bc-f800041d5f84"
      },
      "execution_count": 21,
      "outputs": [
        {
          "output_type": "stream",
          "name": "stdout",
          "text": [
            "<class 'pandas.core.frame.DataFrame'>\n",
            "Index: 2169 entries, 0 to 2199\n",
            "Data columns (total 13 columns):\n",
            " #   Column                 Non-Null Count  Dtype          \n",
            "---  ------                 --------------  -----          \n",
            " 0   XREF ID                2169 non-null   int64          \n",
            " 1   DISPATCH UNIT          2169 non-null   object         \n",
            " 2   DISPATCH CREATED DATE  2169 non-null   datetime64[ns] \n",
            " 3   INCIDENT NUMBER        2169 non-null   object         \n",
            " 4   1ST UNIT ON SCENE      2169 non-null   object         \n",
            " 5   ALARM DATE TIME        2169 non-null   datetime64[ns] \n",
            " 6   CALL COMPLETE          2169 non-null   datetime64[ns] \n",
            " 7   SHIFT                  2169 non-null   object         \n",
            " 8   ID_NO                  2169 non-null   int64          \n",
            " 9   DURATION               2169 non-null   timedelta64[ns]\n",
            " 10  NUM_UNITS              2169 non-null   int64          \n",
            " 11  DAY_OF_WEEK            2169 non-null   category       \n",
            " 12  HOUR                   2169 non-null   int32          \n",
            "dtypes: category(1), datetime64[ns](3), int32(1), int64(3), object(4), timedelta64[ns](1)\n",
            "memory usage: 214.3+ KB\n",
            "None\n"
          ]
        }
      ]
    },
    {
      "cell_type": "markdown",
      "source": [
        "### Part c Unsupervised Learning"
      ],
      "metadata": {
        "id": "XupznprY_9g_"
      }
    },
    {
      "cell_type": "code",
      "source": [
        "# Using K-Means and Agglomerative clustering methods to cluster the above data\n",
        "from sklearn.cluster import KMeans, AgglomerativeClustering\n",
        "from sklearn.preprocessing import StandardScaler\n",
        "from sklearn.metrics import silhouette_score\n",
        "import matplotlib.pyplot as plt\n",
        "import seaborn as sb"
      ],
      "metadata": {
        "id": "nX9-Gp9T-Htw"
      },
      "execution_count": 24,
      "outputs": []
    },
    {
      "cell_type": "code",
      "source": [
        "matrix = alarm_matrix.drop('TOTAL', errors='ignore').drop('TOTAL', axis=1, errors='ignore') # Remove totals from the clusters\n",
        "X = matrix.values\n",
        "\n",
        "# K-means\n",
        "kmeans = KMeans(n_clusters=3, random_state=42)\n",
        "kmeans_labels = kmeans.fit_predict(X)\n",
        "matrix['KMEANS_CLUSTER'] = kmeans_labels\n",
        "kmeans_score = silhouette_score(X, kmeans_labels)\n",
        "print(\"K-Means Silhouette Score:\", kmeans_score)\n",
        "\n",
        "# Agglomerative clustering (Hierarchical)\n",
        "hier = AgglomerativeClustering(n_clusters=3)\n",
        "hier_labels = hier.fit_predict(X)\n",
        "matrix['HIER_CLUSTER'] = hier_labels\n",
        "hier_score = silhouette_score(X, hier_labels)\n",
        "print(\"Hierarchical Silhouette Score:\", hier_score)"
      ],
      "metadata": {
        "colab": {
          "base_uri": "https://localhost:8080/"
        },
        "id": "32UwKFeCAJKU",
        "outputId": "5be3708f-3d5b-48e3-9447-f9700245fbd5"
      },
      "execution_count": 26,
      "outputs": [
        {
          "output_type": "stream",
          "name": "stdout",
          "text": [
            "K-Means Silhouette Score: 0.3128943414686515\n",
            "Hierarchical Silhouette Score: 0.3304117548551017\n"
          ]
        }
      ]
    },
    {
      "cell_type": "markdown",
      "source": [
        "1c) I clustered the fire alarm data based on the matrix we made in part b.Neither method performed significantly better than the other as both had fairly low silhouette scores. This suggests that the clusters have no strong groupings in the dataset based on the attributes."
      ],
      "metadata": {
        "id": "OfkalJDfIEEl"
      }
    },
    {
      "cell_type": "code",
      "source": [
        "cluster_summary = matrix.groupby('HIER_CLUSTER').mean()\n",
        "print(cluster_summary)"
      ],
      "metadata": {
        "colab": {
          "base_uri": "https://localhost:8080/"
        },
        "id": "m0SbL1ENJJ3D",
        "outputId": "f7d342cb-f752-43d2-d761-22128c3fc7f8"
      },
      "execution_count": 35,
      "outputs": [
        {
          "output_type": "stream",
          "name": "stdout",
          "text": [
            "DAY_OF_WEEK      Monday    Tuesday  Wednesday   Thursday     Friday  \\\n",
            "HIER_CLUSTER                                                          \n",
            "0             20.181818  18.090909  18.636364  18.818182  18.090909   \n",
            "1             11.000000  13.333333  13.000000  10.333333  11.833333   \n",
            "2              6.857143   6.000000   6.000000   4.000000   6.142857   \n",
            "\n",
            "DAY_OF_WEEK    Saturday     Sunday  KMEANS_CLUSTER  \n",
            "HIER_CLUSTER                                        \n",
            "0             16.636364  14.090909        0.909091  \n",
            "1             12.833333  11.333333        0.333333  \n",
            "2              6.142857   7.285714        2.000000  \n"
          ]
        }
      ]
    },
    {
      "cell_type": "markdown",
      "source": [
        "2c) The clusters seem to represent the peak fire alarm hours  \n",
        "0 : Peak hours  \n",
        "1 : Moderate hours  \n",
        "2 : Off hours"
      ],
      "metadata": {
        "id": "ygJG0SgDKYVh"
      }
    },
    {
      "cell_type": "code",
      "source": [],
      "metadata": {
        "id": "dRAXivzfKRT2"
      },
      "execution_count": null,
      "outputs": []
    }
  ]
}